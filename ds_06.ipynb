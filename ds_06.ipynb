{
 "cells": [
  {
   "cell_type": "markdown",
   "metadata": {},
   "source": [
    "#  Прогнозирование заказов такси"
   ]
  },
  {
   "cell_type": "markdown",
   "metadata": {},
   "source": [
    "Компания «Чётенькое такси» собрала исторические данные о заказах такси в аэропортах. Чтобы привлекать больше водителей в период пиковой нагрузки, нужно спрогнозировать количество заказов такси на следующий час. Постройте модель для такого предсказания.\n",
    "\n",
    "Значение метрики *RMSE* на тестовой выборке должно быть не больше 48.\n",
    "\n",
    "Вам нужно:\n",
    "\n",
    "1. Загрузить данные и выполнить их ресемплирование по одному часу.\n",
    "2. Проанализировать данные.\n",
    "3. Обучить разные модели с различными гиперпараметрами. Сделать тестовую выборку размером 10% от исходных данных.\n",
    "4. Проверить данные на тестовой выборке и сделать выводы.\n",
    "\n",
    "\n",
    "Данные лежат в файле `taxi.csv`. Количество заказов находится в столбце `num_orders` (от англ. *number of orders*, «число заказов»)."
   ]
  },
  {
   "cell_type": "markdown",
   "metadata": {},
   "source": [
    "## Подготовка"
   ]
  },
  {
   "cell_type": "markdown",
   "metadata": {},
   "source": [
    "### Ипорт библиотек"
   ]
  },
  {
   "cell_type": "code",
   "execution_count": 1,
   "metadata": {},
   "outputs": [],
   "source": [
    "import pandas as pd\n",
    "import matplotlib.pyplot as plt\n",
    "from statsmodels.tsa.seasonal import seasonal_decompose\n",
    "\n",
    "import time\n",
    "\n",
    "from sklearn.model_selection import train_test_split\n",
    "from sklearn.metrics import mean_squared_error\n",
    "from sklearn.linear_model import LinearRegression\n",
    "from sklearn.tree import DecisionTreeRegressor\n",
    "from catboost import CatBoostRegressor \n",
    "from sklearn.linear_model import Ridge\n",
    "from lightgbm import LGBMRegressor\n",
    "from sklearn.preprocessing import StandardScaler"
   ]
  },
  {
   "cell_type": "code",
   "execution_count": 2,
   "metadata": {},
   "outputs": [],
   "source": [
    "taxi=pd.read_csv('https://code.s3.yandex.net/datasets/taxi.csv',sep=',')"
   ]
  },
  {
   "cell_type": "code",
   "execution_count": 3,
   "metadata": {},
   "outputs": [],
   "source": [
    "def dataset_info(dataset,name):\n",
    "    display(f'Анализ датафрейма {name}')\n",
    "    display(dataset.head(5))\n",
    "    display(f'Количество пустых ячеек:')\n",
    "    display(dataset.isnull().sum())\n",
    "    display(dataset.info())\n",
    "    display(f'Количество явных дубликатов в датасете:{dataset.duplicated().sum()}' )\n",
    "    dataset=dataset.drop_duplicates()\n",
    "    display(f'Количество явных дубликатов в датасете после удаления:{dataset.duplicated().sum()}' )"
   ]
  },
  {
   "cell_type": "code",
   "execution_count": 4,
   "metadata": {},
   "outputs": [
    {
     "data": {
      "text/plain": [
       "'Анализ датафрейма taxi'"
      ]
     },
     "metadata": {},
     "output_type": "display_data"
    },
    {
     "data": {
      "text/html": [
       "<div>\n",
       "<style scoped>\n",
       "    .dataframe tbody tr th:only-of-type {\n",
       "        vertical-align: middle;\n",
       "    }\n",
       "\n",
       "    .dataframe tbody tr th {\n",
       "        vertical-align: top;\n",
       "    }\n",
       "\n",
       "    .dataframe thead th {\n",
       "        text-align: right;\n",
       "    }\n",
       "</style>\n",
       "<table border=\"1\" class=\"dataframe\">\n",
       "  <thead>\n",
       "    <tr style=\"text-align: right;\">\n",
       "      <th></th>\n",
       "      <th>datetime</th>\n",
       "      <th>num_orders</th>\n",
       "    </tr>\n",
       "  </thead>\n",
       "  <tbody>\n",
       "    <tr>\n",
       "      <th>0</th>\n",
       "      <td>2018-03-01 00:00:00</td>\n",
       "      <td>9</td>\n",
       "    </tr>\n",
       "    <tr>\n",
       "      <th>1</th>\n",
       "      <td>2018-03-01 00:10:00</td>\n",
       "      <td>14</td>\n",
       "    </tr>\n",
       "    <tr>\n",
       "      <th>2</th>\n",
       "      <td>2018-03-01 00:20:00</td>\n",
       "      <td>28</td>\n",
       "    </tr>\n",
       "    <tr>\n",
       "      <th>3</th>\n",
       "      <td>2018-03-01 00:30:00</td>\n",
       "      <td>20</td>\n",
       "    </tr>\n",
       "    <tr>\n",
       "      <th>4</th>\n",
       "      <td>2018-03-01 00:40:00</td>\n",
       "      <td>32</td>\n",
       "    </tr>\n",
       "  </tbody>\n",
       "</table>\n",
       "</div>"
      ],
      "text/plain": [
       "              datetime  num_orders\n",
       "0  2018-03-01 00:00:00           9\n",
       "1  2018-03-01 00:10:00          14\n",
       "2  2018-03-01 00:20:00          28\n",
       "3  2018-03-01 00:30:00          20\n",
       "4  2018-03-01 00:40:00          32"
      ]
     },
     "metadata": {},
     "output_type": "display_data"
    },
    {
     "data": {
      "text/plain": [
       "'Количество пустых ячеек:'"
      ]
     },
     "metadata": {},
     "output_type": "display_data"
    },
    {
     "data": {
      "text/plain": [
       "datetime      0\n",
       "num_orders    0\n",
       "dtype: int64"
      ]
     },
     "metadata": {},
     "output_type": "display_data"
    },
    {
     "name": "stdout",
     "output_type": "stream",
     "text": [
      "<class 'pandas.core.frame.DataFrame'>\n",
      "RangeIndex: 26496 entries, 0 to 26495\n",
      "Data columns (total 2 columns):\n",
      " #   Column      Non-Null Count  Dtype \n",
      "---  ------      --------------  ----- \n",
      " 0   datetime    26496 non-null  object\n",
      " 1   num_orders  26496 non-null  int64 \n",
      "dtypes: int64(1), object(1)\n",
      "memory usage: 414.1+ KB\n"
     ]
    },
    {
     "data": {
      "text/plain": [
       "None"
      ]
     },
     "metadata": {},
     "output_type": "display_data"
    },
    {
     "data": {
      "text/plain": [
       "'Количество явных дубликатов в датасете:0'"
      ]
     },
     "metadata": {},
     "output_type": "display_data"
    },
    {
     "data": {
      "text/plain": [
       "'Количество явных дубликатов в датасете после удаления:0'"
      ]
     },
     "metadata": {},
     "output_type": "display_data"
    }
   ],
   "source": [
    "dataset_info(taxi, 'taxi')"
   ]
  },
  {
   "cell_type": "code",
   "execution_count": 5,
   "metadata": {},
   "outputs": [],
   "source": [
    "taxi['datetime'] = pd.to_datetime(taxi['datetime'])#.dt.normalize()\n",
    "taxi.set_index(\"datetime\", inplace = True)\n",
    "taxi.sort_index(inplace=True)"
   ]
  },
  {
   "cell_type": "code",
   "execution_count": 6,
   "metadata": {},
   "outputs": [],
   "source": [
    "def graphs(dataset,name):\n",
    "    display(f'Анализ количественных признаков датафрейма {name}')\n",
    "    display(dataset.describe())\n",
    "    for j in dataset.columns:\n",
    "        if dataset[j].dtype!=object:\n",
    "            fig = plt.hist(dataset[j],color = 'blue', edgecolor = 'black',bins = 50)\n",
    "            plt.xlabel(j)\n",
    "            plt.ylabel('Количество')\n",
    "            plt.title(f'Анализ столбца {j}',fontweight = \"bold\")\n",
    "            plt.show()\n",
    "            dataset.boxplot([j])\n",
    "            plt.title(f'Boxplot для  столбца {j}')\n",
    "            plt.show()"
   ]
  },
  {
   "cell_type": "code",
   "execution_count": 7,
   "metadata": {},
   "outputs": [
    {
     "data": {
      "text/plain": [
       "'Анализ количественных признаков датафрейма taxi'"
      ]
     },
     "metadata": {},
     "output_type": "display_data"
    },
    {
     "data": {
      "text/html": [
       "<div>\n",
       "<style scoped>\n",
       "    .dataframe tbody tr th:only-of-type {\n",
       "        vertical-align: middle;\n",
       "    }\n",
       "\n",
       "    .dataframe tbody tr th {\n",
       "        vertical-align: top;\n",
       "    }\n",
       "\n",
       "    .dataframe thead th {\n",
       "        text-align: right;\n",
       "    }\n",
       "</style>\n",
       "<table border=\"1\" class=\"dataframe\">\n",
       "  <thead>\n",
       "    <tr style=\"text-align: right;\">\n",
       "      <th></th>\n",
       "      <th>num_orders</th>\n",
       "    </tr>\n",
       "  </thead>\n",
       "  <tbody>\n",
       "    <tr>\n",
       "      <th>count</th>\n",
       "      <td>26496.000000</td>\n",
       "    </tr>\n",
       "    <tr>\n",
       "      <th>mean</th>\n",
       "      <td>14.070463</td>\n",
       "    </tr>\n",
       "    <tr>\n",
       "      <th>std</th>\n",
       "      <td>9.211330</td>\n",
       "    </tr>\n",
       "    <tr>\n",
       "      <th>min</th>\n",
       "      <td>0.000000</td>\n",
       "    </tr>\n",
       "    <tr>\n",
       "      <th>25%</th>\n",
       "      <td>8.000000</td>\n",
       "    </tr>\n",
       "    <tr>\n",
       "      <th>50%</th>\n",
       "      <td>13.000000</td>\n",
       "    </tr>\n",
       "    <tr>\n",
       "      <th>75%</th>\n",
       "      <td>19.000000</td>\n",
       "    </tr>\n",
       "    <tr>\n",
       "      <th>max</th>\n",
       "      <td>119.000000</td>\n",
       "    </tr>\n",
       "  </tbody>\n",
       "</table>\n",
       "</div>"
      ],
      "text/plain": [
       "         num_orders\n",
       "count  26496.000000\n",
       "mean      14.070463\n",
       "std        9.211330\n",
       "min        0.000000\n",
       "25%        8.000000\n",
       "50%       13.000000\n",
       "75%       19.000000\n",
       "max      119.000000"
      ]
     },
     "metadata": {},
     "output_type": "display_data"
    },
    {
     "data": {
      "image/png": "[encoded data removed]",
      "text/plain": [
       "<Figure size 432x288 with 1 Axes>"
      ]
     },
     "metadata": {
      "needs_background": "light"
     },
     "output_type": "display_data"
    },
    {
     "data": {
      "image/png": "[encoded data removed]",
      "text/plain": [
       "<Figure size 432x288 with 1 Axes>"
      ]
     },
     "metadata": {
      "needs_background": "light"
     },
     "output_type": "display_data"
    }
   ],
   "source": [
    "graphs(taxi, 'taxi')"
   ]
  },
  {
   "cell_type": "code",
   "execution_count": 8,
   "metadata": {},
   "outputs": [],
   "source": [
    "taxi = taxi.resample('1H').sum()\n",
    "decomposed = seasonal_decompose(taxi)\n",
    "decomposed_day = seasonal_decompose(taxi.resample('1D').sum())"
   ]
  },
  {
   "cell_type": "markdown",
   "metadata": {},
   "source": [
    "### Вывод\n",
    "Данные загружены. Явные дубликаты, пустые ячейки не обнаружены "
   ]
  },
  {
   "cell_type": "markdown",
   "metadata": {},
   "source": [
    "## Анализ"
   ]
  },
  {
   "cell_type": "code",
   "execution_count": 9,
   "metadata": {},
   "outputs": [
    {
     "data": {
      "image/png": "[encoded data removed]",
      "text/plain": [
       "<Figure size 432x288 with 1 Axes>"
      ]
     },
     "metadata": {
      "needs_background": "light"
     },
     "output_type": "display_data"
    }
   ],
   "source": [
    "fig1 = taxi.plot()\n",
    "plt.show()"
   ]
  },
  {
   "cell_type": "code",
   "execution_count": 10,
   "metadata": {},
   "outputs": [],
   "source": [
    "def graphs_2(dataset,name):\n",
    "    fig =plt.scatter(x=dataset.index, y=dataset)\n",
    "    plt.ylabel('Количество заказов')\n",
    "    plt.title(f'Анализ {name}',fontweight = \"bold\")\n",
    "    #plt.show()"
   ]
  },
  {
   "cell_type": "code",
   "execution_count": 11,
   "metadata": {},
   "outputs": [
    {
     "data": {
      "image/png": "[encoded data removed]",
      "text/plain": [
       "<Figure size 432x288 with 1 Axes>"
      ]
     },
     "metadata": {
      "needs_background": "light"
     },
     "output_type": "display_data"
    }
   ],
   "source": [
    "graphs_2(decomposed.trend, 'Trend')"
   ]
  },
  {
   "cell_type": "code",
   "execution_count": 12,
   "metadata": {},
   "outputs": [
    {
     "data": {
      "image/png": "[encoded data removed]",
      "text/plain": [
       "<Figure size 432x288 with 1 Axes>"
      ]
     },
     "metadata": {
      "needs_background": "light"
     },
     "output_type": "display_data"
    }
   ],
   "source": [
    "graphs_2(decomposed.trend.rolling(24*7).mean(), 'Trend (smoothed)')"
   ]
  },
  {
   "cell_type": "code",
   "execution_count": 13,
   "metadata": {},
   "outputs": [
    {
     "data": {
      "text/plain": [
       "<AxesSubplot:xlabel='datetime'>"
      ]
     },
     "execution_count": 13,
     "metadata": {},
     "output_type": "execute_result"
    },
    {
     "data": {
      "image/png": "[encoded data removed]",
      "text/plain": [
       "<Figure size 432x288 with 1 Axes>"
      ]
     },
     "metadata": {
      "needs_background": "light"
     },
     "output_type": "display_data"
    }
   ],
   "source": [
    "decomposed.seasonal.tail(24).plot(ax=plt.gca())"
   ]
  },
  {
   "cell_type": "markdown",
   "metadata": {},
   "source": [
    "### Вывод\n",
    "По результатам анализа линий тренда, можно сделать вывод, что количество заказов растет каждый месяц"
   ]
  },
  {
   "cell_type": "markdown",
   "metadata": {},
   "source": [
    "## Обучение"
   ]
  },
  {
   "cell_type": "code",
   "execution_count": 14,
   "metadata": {},
   "outputs": [],
   "source": [
    "def make_features(dataset, max_lag, rolling_mean_size,target):\n",
    "    dataset['day'] = dataset.index.day\n",
    "    dataset['dayofweek'] = dataset.index.dayofweek\n",
    "    \n",
    "    for lag in range(1, max_lag + 1):\n",
    "        dataset['lag_{}'.format(lag)] = dataset[target].shift(lag)\n",
    "\n",
    "    dataset['rolling_mean'] = dataset[target].shift().rolling(rolling_mean_size).mean()\n",
    "    dataset.dropna(inplace=True)\n",
    "    return dataset\n",
    "data_ML=make_features(taxi, 24, 100,'num_orders')"
   ]
  },
  {
   "cell_type": "code",
   "execution_count": 15,
   "metadata": {},
   "outputs": [],
   "source": [
    "RANDOM_STATE=42\n",
    "TEST_SIZE=0.1"
   ]
  },
  {
   "cell_type": "code",
   "execution_count": 16,
   "metadata": {},
   "outputs": [],
   "source": [
    "X_train, X_test, y_train, y_test = train_test_split(\n",
    "    data_ML.drop('num_orders', axis=1),\n",
    "    data_ML['num_orders'],\n",
    "    shuffle=False,\n",
    "    test_size = TEST_SIZE, \n",
    "    random_state = RANDOM_STATE)\n",
    "\n",
    "X_train, X_valid, y_train, y_valid = train_test_split(X_train, y_train, test_size = 0.2,shuffle=False, \n",
    "random_state = RANDOM_STATE)\n",
    "\n",
    "\n",
    "numbers = data_ML.drop('num_orders', axis=1).select_dtypes(include=['int64', 'float64']).columns.tolist()\n",
    "\n",
    "scaler = StandardScaler()\n",
    "X_train_scaled = scaler.fit_transform(X_train[numbers])\n",
    "X_test_scaled = scaler.transform(X_test[numbers])\n",
    "X_valid_scaled = scaler.transform(X_valid[numbers])\n",
    "\n",
    "X_train = pd.DataFrame(X_train_scaled, columns=numbers)\n",
    "X_test = pd.DataFrame(X_test_scaled, columns=numbers)\n",
    "X_valid= pd.DataFrame(X_valid_scaled, columns=numbers)"
   ]
  },
  {
   "cell_type": "code",
   "execution_count": 17,
   "metadata": {},
   "outputs": [],
   "source": [
    "start_time = time.time()\n",
    "\n",
    "score =[]\n",
    "\n",
    "for hyperparam1 in [True, False]:\n",
    "    for hyperparam2 in [True, False]:\n",
    "        for hyperparam3 in [1, -1]:\n",
    "            model_LR = LinearRegression(copy_X=hyperparam1,fit_intercept=hyperparam2,n_jobs=hyperparam3)\n",
    "            model_LR.fit(X_train,y_train)\n",
    "            target_predict = model_LR.predict(X_valid)\n",
    "            RMSE_LR = mean_squared_error( y_valid,target_predict) ** 0.5\n",
    "            score.append((RMSE_LR, hyperparam1, hyperparam2,hyperparam3))\n",
    "            \n",
    "best_lr=min(score)\n",
    "\n",
    "model_LR = LinearRegression(copy_X=best_lr[1],fit_intercept=best_lr[2],n_jobs=best_lr[3])\n",
    "\n",
    "model_LR.fit(X_train, y_train)\n",
    "\n",
    "end_time = time.time()\n",
    "\n",
    "education_time_LR = end_time - start_time\n",
    "\n",
    "start_time = time.time()\n",
    "target_predict = model_LR .predict(X_valid)\n",
    "end_time = time.time()\n",
    "prediction_time_LR = end_time - start_time\n",
    "RMSE_LR = mean_squared_error(y_valid,target_predict) ** 0.5"
   ]
  },
  {
   "cell_type": "code",
   "execution_count": 18,
   "metadata": {},
   "outputs": [],
   "source": [
    "start_time = time.time()\n",
    "model_DT = DecisionTreeRegressor(criterion='friedman_mse', \n",
    "                              max_depth=15, \n",
    "                              random_state=RANDOM_STATE) \n",
    "model_DT.fit(X_train, y_train)\n",
    "end_time = time.time()\n",
    "education_time_DT = end_time - start_time\n",
    "\n",
    "start_time = time.time()\n",
    "target_predict = model_DT.predict(X_valid)\n",
    "end_time = time.time()\n",
    "prediction_time_DT = end_time - start_time\n",
    "RMSE_DT = mean_squared_error( y_valid,target_predict) ** 0.5  "
   ]
  },
  {
   "cell_type": "code",
   "execution_count": 19,
   "metadata": {},
   "outputs": [],
   "source": [
    "start_time = time.time()\n",
    "model_R = Ridge(solver='svd',random_state=RANDOM_STATE)\n",
    "model_R.fit(X_train, y_train)\n",
    "end_time = time.time()\n",
    "education_time_R = end_time - start_time\n",
    "\n",
    "start_time = time.time()\n",
    "target_predict = model_R.predict(X_valid)\n",
    "end_time = time.time()\n",
    "prediction_time_R = end_time - start_time\n",
    "RMSE_R= mean_squared_error( y_valid,target_predict) ** 0.5"
   ]
  },
  {
   "cell_type": "code",
   "execution_count": 20,
   "metadata": {},
   "outputs": [],
   "source": [
    "start_time = time.time()\n",
    "model_CB = CatBoostRegressor(learning_rate=0.5, \n",
    "                          random_state=RANDOM_STATE, \n",
    "                          verbose=False) \n",
    "model_CB.fit(X_train, y_train)\n",
    "end_time = time.time()\n",
    "education_time_CB = end_time - start_time\n",
    "\n",
    "start_time = time.time()\n",
    "target_predict = model_CB.predict(X_valid)\n",
    "end_time = time.time()\n",
    "prediction_time_CB = end_time - start_time\n",
    "RMSE_CB = mean_squared_error( y_valid,target_predict) ** 0.5"
   ]
  },
  {
   "cell_type": "code",
   "execution_count": 21,
   "metadata": {},
   "outputs": [],
   "source": [
    "start_time = time.time()\n",
    "model_LGBM = LGBMRegressor(learning_rate=0.1, \n",
    "                      num_leaves=20, \n",
    "                      random_state=RANDOM_STATE)\n",
    "model_LGBM.fit(X_train, y_train)\n",
    "end_time = time.time()\n",
    "education_time_LGBM = end_time - start_time\n",
    "\n",
    "start_time = time.time()\n",
    "target_predict = model_LGBM.predict(X_valid)\n",
    "end_time = time.time()\n",
    "prediction_time_LGBM = end_time - start_time\n",
    "RMSE_LGBM = mean_squared_error( y_valid,target_predict) ** 0.5"
   ]
  },
  {
   "cell_type": "code",
   "execution_count": 22,
   "metadata": {},
   "outputs": [
    {
     "data": {
      "text/html": [
       "<div>\n",
       "<style scoped>\n",
       "    .dataframe tbody tr th:only-of-type {\n",
       "        vertical-align: middle;\n",
       "    }\n",
       "\n",
       "    .dataframe tbody tr th {\n",
       "        vertical-align: top;\n",
       "    }\n",
       "\n",
       "    .dataframe thead th {\n",
       "        text-align: right;\n",
       "    }\n",
       "</style>\n",
       "<table border=\"1\" class=\"dataframe\">\n",
       "  <thead>\n",
       "    <tr style=\"text-align: right;\">\n",
       "      <th></th>\n",
       "      <th>RMSE</th>\n",
       "      <th>education_time</th>\n",
       "      <th>prediction_time</th>\n",
       "    </tr>\n",
       "  </thead>\n",
       "  <tbody>\n",
       "    <tr>\n",
       "      <th>DecisionTreeRegressor</th>\n",
       "      <td>43.635745</td>\n",
       "      <td>0.146382</td>\n",
       "      <td>0.002010</td>\n",
       "    </tr>\n",
       "    <tr>\n",
       "      <th>CatBoostRegressor</th>\n",
       "      <td>35.105176</td>\n",
       "      <td>6.218642</td>\n",
       "      <td>0.002996</td>\n",
       "    </tr>\n",
       "    <tr>\n",
       "      <th>LGBM</th>\n",
       "      <td>34.174536</td>\n",
       "      <td>2.374519</td>\n",
       "      <td>0.090724</td>\n",
       "    </tr>\n",
       "    <tr>\n",
       "      <th>LinearRegression</th>\n",
       "      <td>32.959099</td>\n",
       "      <td>0.811917</td>\n",
       "      <td>0.089554</td>\n",
       "    </tr>\n",
       "    <tr>\n",
       "      <th>Ridge</th>\n",
       "      <td>32.958977</td>\n",
       "      <td>0.014861</td>\n",
       "      <td>0.084787</td>\n",
       "    </tr>\n",
       "  </tbody>\n",
       "</table>\n",
       "</div>"
      ],
      "text/plain": [
       "                            RMSE  education_time  prediction_time\n",
       "DecisionTreeRegressor  43.635745        0.146382         0.002010\n",
       "CatBoostRegressor      35.105176        6.218642         0.002996\n",
       "LGBM                   34.174536        2.374519         0.090724\n",
       "LinearRegression       32.959099        0.811917         0.089554\n",
       "Ridge                  32.958977        0.014861         0.084787"
      ]
     },
     "metadata": {},
     "output_type": "display_data"
    }
   ],
   "source": [
    "index = ['LinearRegression',\n",
    "         'DecisionTreeRegressor',\n",
    "         'Ridge',\n",
    "         'CatBoostRegressor',\n",
    "        'LGBM']\n",
    "data = {'RMSE':[RMSE_LR,RMSE_DT,RMSE_R,RMSE_CB,RMSE_LGBM],'education_time':[education_time_LR,education_time_DT,education_time_R,education_time_CB,education_time_LGBM],'prediction_time':[prediction_time_LR,prediction_time_DT,prediction_time_R,prediction_time_CB,prediction_time_LGBM]}\n",
    "display(pd.DataFrame(data=data, index=index).sort_values(by='RMSE',ascending=False))"
   ]
  },
  {
   "cell_type": "markdown",
   "metadata": {},
   "source": [
    "###  Выводы\n",
    "По результатам анализа моделей можно сделать вывод, что величина RMSE самая низкая (32) у Ridge,  время обучения составляет 0.017. \n",
    "Стоит остановить выбор на данной модели."
   ]
  },
  {
   "cell_type": "markdown",
   "metadata": {},
   "source": [
    "## Тестирование"
   ]
  },
  {
   "cell_type": "code",
   "execution_count": 24,
   "metadata": {},
   "outputs": [
    {
     "data": {
      "text/plain": [
       "'prediction_time_Ridge_test '"
      ]
     },
     "metadata": {},
     "output_type": "display_data"
    },
    {
     "data": {
      "text/plain": [
       "0.001901865005493164"
      ]
     },
     "metadata": {},
     "output_type": "display_data"
    },
    {
     "data": {
      "text/plain": [
       "'RMSE_Ridge_test '"
      ]
     },
     "metadata": {},
     "output_type": "display_data"
    },
    {
     "data": {
      "text/plain": [
       "45.80293502472437"
      ]
     },
     "metadata": {},
     "output_type": "display_data"
    }
   ],
   "source": [
    "start_time = time.time()\n",
    "target_predict = model_R.predict(X_test)\n",
    "end_time = time.time()\n",
    "prediction_time_R_test = end_time - start_time\n",
    "\n",
    "RMSE_R_test = mean_squared_error( y_test,target_predict) ** 0.5\n",
    "\n",
    "display('prediction_time_Ridge_test ',prediction_time_R_test)\n",
    "display('RMSE_Ridge_test ',RMSE_R_test)"
   ]
  },
  {
   "cell_type": "markdown",
   "metadata": {},
   "source": [
    "###  Выводы\n",
    "Время выполнения на тестовой выборке составило 0,019 секунд, RMSE=45.8 (подходит заданию)"
   ]
  }
 ],
 "metadata": {
  "ExecuteTimeLog": [
   {
    "duration": 3003,
    "start_time": "2024-07-10T11:29:12.822Z"
   },
   {
    "duration": 111,
    "start_time": "2024-07-10T11:29:15.827Z"
   },
   {
    "duration": 4,
    "start_time": "2024-07-10T11:29:15.939Z"
   },
   {
    "duration": 63,
    "start_time": "2024-07-10T11:29:15.945Z"
   },
   {
    "duration": 9,
    "start_time": "2024-07-10T11:29:16.009Z"
   },
   {
    "duration": 19,
    "start_time": "2024-07-10T11:29:16.020Z"
   },
   {
    "duration": 335,
    "start_time": "2024-07-10T11:29:16.040Z"
   },
   {
    "duration": 17,
    "start_time": "2024-07-10T11:29:16.377Z"
   },
   {
    "duration": 13,
    "start_time": "2024-07-10T11:29:16.396Z"
   },
   {
    "duration": 339,
    "start_time": "2024-07-10T11:29:16.411Z"
   },
   {
    "duration": 153,
    "start_time": "2024-07-10T11:29:16.752Z"
   },
   {
    "duration": 17,
    "start_time": "2024-07-10T11:29:16.907Z"
   },
   {
    "duration": 13,
    "start_time": "2024-07-10T11:29:16.925Z"
   },
   {
    "duration": 26,
    "start_time": "2024-07-10T11:29:16.939Z"
   },
   {
    "duration": 573,
    "start_time": "2024-07-10T11:29:16.966Z"
   },
   {
    "duration": 131,
    "start_time": "2024-07-10T11:29:17.541Z"
   },
   {
    "duration": 7,
    "start_time": "2024-07-10T11:29:17.737Z"
   },
   {
    "duration": 3761,
    "start_time": "2024-07-10T11:29:17.746Z"
   },
   {
    "duration": 2231,
    "start_time": "2024-07-10T11:29:21.509Z"
   },
   {
    "duration": 6,
    "start_time": "2024-07-10T11:29:23.742Z"
   },
   {
    "duration": 13,
    "start_time": "2024-07-10T11:29:23.750Z"
   },
   {
    "duration": 78,
    "start_time": "2024-07-10T11:29:23.765Z"
   },
   {
    "duration": 193,
    "start_time": "2024-07-10T11:29:23.845Z"
   },
   {
    "duration": 5,
    "start_time": "2024-07-10T11:29:24.039Z"
   },
   {
    "duration": 10,
    "start_time": "2024-07-10T11:29:24.046Z"
   },
   {
    "duration": 29,
    "start_time": "2024-07-10T11:41:42.049Z"
   },
   {
    "duration": 3068,
    "start_time": "2024-07-11T15:23:05.039Z"
   },
   {
    "duration": 108,
    "start_time": "2024-07-11T15:23:08.109Z"
   },
   {
    "duration": 4,
    "start_time": "2024-07-11T15:23:08.219Z"
   },
   {
    "duration": 75,
    "start_time": "2024-07-11T15:23:08.225Z"
   },
   {
    "duration": 11,
    "start_time": "2024-07-11T15:23:08.303Z"
   },
   {
    "duration": 14,
    "start_time": "2024-07-11T15:23:08.315Z"
   },
   {
    "duration": 396,
    "start_time": "2024-07-11T15:23:08.331Z"
   },
   {
    "duration": 18,
    "start_time": "2024-07-11T15:23:08.729Z"
   },
   {
    "duration": 308,
    "start_time": "2024-07-11T15:23:08.748Z"
   },
   {
    "duration": 7,
    "start_time": "2024-07-11T15:23:09.058Z"
   },
   {
    "duration": 256,
    "start_time": "2024-07-11T15:23:09.067Z"
   },
   {
    "duration": 171,
    "start_time": "2024-07-11T15:23:09.325Z"
   },
   {
    "duration": 153,
    "start_time": "2024-07-11T15:23:09.498Z"
   },
   {
    "duration": 35,
    "start_time": "2024-07-11T15:23:09.654Z"
   },
   {
    "duration": 39,
    "start_time": "2024-07-11T15:23:09.691Z"
   },
   {
    "duration": 25,
    "start_time": "2024-07-11T15:23:09.732Z"
   },
   {
    "duration": 909,
    "start_time": "2024-07-11T15:23:09.758Z"
   },
   {
    "duration": 154,
    "start_time": "2024-07-11T15:23:10.669Z"
   },
   {
    "duration": 142,
    "start_time": "2024-07-11T15:23:10.825Z"
   },
   {
    "duration": 6227,
    "start_time": "2024-07-11T15:23:10.969Z"
   },
   {
    "duration": 2469,
    "start_time": "2024-07-11T15:23:17.198Z"
   },
   {
    "duration": 11,
    "start_time": "2024-07-11T15:23:19.669Z"
   },
   {
    "duration": 185,
    "start_time": "2024-07-11T15:23:19.682Z"
   },
   {
    "duration": 13,
    "start_time": "2024-07-11T15:23:54.773Z"
   }
  ],
  "kernelspec": {
   "display_name": "Python 3 (ipykernel)",
   "language": "python",
   "name": "python3"
  },
  "language_info": {
   "codemirror_mode": {
    "name": "ipython",
    "version": 3
   },
   "file_extension": ".py",
   "mimetype": "text/x-python",
   "name": "python",
   "nbconvert_exporter": "python",
   "pygments_lexer": "ipython3",
   "version": "3.11.5"
  },
  "toc": {
   "base_numbering": 1,
   "nav_menu": {},
   "number_sections": true,
   "sideBar": true,
   "skip_h1_title": true,
   "title_cell": "Содержание",
   "title_sidebar": "Contents",
   "toc_cell": true,
   "toc_position": {},
   "toc_section_display": true,
   "toc_window_display": true
  }
 },
 "nbformat": 4,
 "nbformat_minor": 2
}
